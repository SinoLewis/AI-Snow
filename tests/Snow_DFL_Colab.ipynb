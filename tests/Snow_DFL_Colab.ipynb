{
 "cells": [
  {
   "attachments": {},
   "cell_type": "markdown",
   "metadata": {
    "id": "0cKdTCuv4tXh"
   },
   "source": [
    "# Welcome to DFL-Colab!\n",
    "\n",
    "This is an adapted version of the DFL for Google Colab.\n",
    "Works only with DFL 1.0\n",
    "\n",
    "# Overview\n",
    "\n",
    "- Extractor works in full functionality.\n",
    "- Training can work without preview.\n",
    "- Converter works in full functionality.\n",
    "- You can import/export workspace with your Google Drive.\n",
    "- Import/export and another manipulations with workspace you can do in \"Manage workspace\" block\n",
    "- Google Colab machine active for 12 hours. DFL-Colab makes a backup of your workspace in training mode, after 11 hours from the start of the session.\n",
    "- Google does not like long-term heavy calculations. Therefore, for training more than two sessions in a row, use two Google accounts. It is recommended to split your training over 2 accounts, but you can use one Google Drive account to store your workspace.\n"
   ]
  },
  {
   "attachments": {},
   "cell_type": "markdown",
   "metadata": {},
   "source": [
    "## Prevent random disconnects\n",
    "\n",
    "This cell runs JS code to automatic reconnect to runtime.\n"
   ]
  },
  {
   "cell_type": "code",
   "execution_count": null,
   "metadata": {},
   "outputs": [],
   "source": [
    "import IPython\n",
    "from google.colab import output\n",
    "\n",
    "display(IPython.display.Javascript('''\n",
    " function ClickConnect(){\n",
    "   btn = document.querySelector(\"colab-connect-button\")\n",
    "   if (btn != null){\n",
    "     console.log(\"Click colab-connect-button\"); \n",
    "     btn.click() \n",
    "     }\n",
    "   \n",
    "   btn = document.getElementById('ok')\n",
    "   if (btn != null){\n",
    "     console.log(\"Click reconnect\"); \n",
    "     btn.click() \n",
    "     }\n",
    "  }\n",
    "  \n",
    "setInterval(ClickConnect,60000)\n",
    "'''))\n",
    "\n",
    "print(\"Done.\")\n"
   ]
  },
  {
   "attachments": {},
   "cell_type": "markdown",
   "metadata": {
    "id": "BDg_jiQ9adQe"
   },
   "source": [
    "# Check GPU\n",
    "\n",
    "- Google Colab can provide you with one of Tesla graphics cards: K80, T4, P4 or P100\n",
    "- Here you can check the model of GPU before using DeepFaceLab\n"
   ]
  },
  {
   "cell_type": "code",
   "execution_count": null,
   "metadata": {
    "id": "WJe71S6gbzt3"
   },
   "outputs": [],
   "source": [
    "!nvidia-smi\n"
   ]
  },
  {
   "attachments": {},
   "cell_type": "markdown",
   "metadata": {
    "id": "JuVn21kt40Gw"
   },
   "source": [
    "# Clone Github repository and install requirements\n",
    "\n",
    "- Clone Github repository or pull updates\n",
    "- Requirements install is automatically\n"
   ]
  },
  {
   "cell_type": "code",
   "execution_count": null,
   "metadata": {},
   "outputs": [],
   "source": [
    "# @title Install or update DeepFaceLab from Github\n",
    "\n",
    "from google.colab import output\n",
    "import IPython\n",
    "import os\n",
    "from pathlib import Path\n",
    "\n",
    "Mode = \"install\"  # @param [\"install\", \"update\"]\n",
    "Download_FFHQ = True  # @param {type:\"boolean\"}\n",
    "\n",
    "base_dir = '/content/drive/MyDrive/DeepFaceLabProject'\n",
    "dfl_dir = f\"{base_dir}/DeepFaceLab\"\n",
    "pretrain_dir = f\"{base_dir}/pretrain\"\n",
    "pretrain_faceset_zip = f\"{base_dir}/pretrain_faceset.zip\"\n",
    "pretrain_Q96_dir = f\"{base_dir}/pretrain_Q96\"\n",
    "pretrain_Q96_zip = f\"{base_dir}/pretrain_Q96.zip\"\n",
    "\n",
    "workspace_dir = f\"{base_dir}/workspace\"\n",
    "data_src_dir = f\"{workspace_dir}/data_src\"\n",
    "aligned_data_src_dir = f\"{data_src_dir}/aligned\"\n",
    "data_dst_dir = f\"{workspace_dir}/data_dst\"\n",
    "aligned_data_dst_dir = f\"{data_dst_dir}/aligned\"\n",
    "model_dir = f\"{workspace_dir}/model\"\n",
    "\n",
    "pretrain_link = \"https://github.com/chervonij/DFL-Colab/releases/download/\"\n",
    "pretrain_link = f\"{pretrain_link}pretrain_GenericFFHQ/pretrain_FFHQ.zip\" if Download_FFHQ else f\"{pretrain_link}pretrain-CelebA/pretrain_CelebA.zip\"\n",
    "\n",
    "os.chdir(base_dir)\n",
    "print(\"Current working directory:\", os.getcwd())\n",
    "\n",
    "if (Mode == \"install\"):\n",
    "    !git clone \"https://github.com/iperov/DeepFaceLab.git\"\n",
    "    os.chdir(dfl_dir)\n",
    "    os.chdir(base_dir)\n",
    "else:\n",
    "    os.chdir(dfl_dir)\n",
    "    !git pull\n",
    "\n",
    "!pip install tqdm numpy==1.19.3 numexpr h5py==2.10.0 opencv-python ffmpeg-python==0.1.17 scikit-image==0.14.2 scipy==1.4.1 colorama tensorflow-gpu==2.4.0 tf2onnx==1.9.3\n",
    "!pip install --upgrade scikit-image\n",
    "!pip install colorama\n",
    "\n",
    "if not Path(pretrain_dir).exists():\n",
    "  print(\"Downloading Pretrain faceset ... \")\n",
    "  !wget -q --no-check-certificate -r $pretrain_link -O $pretrain_faceset_zip\n",
    "  !mkdir $pretrain_dir\n",
    "  !unzip -q $pretrain_faceset_zip -d $pretrain_dir\n",
    "  !rm $pretrain_faceset_zip\n",
    "\n",
    "if not Path(pretrain_Q96_dir).exists():\n",
    "  print(\"Downloading Q96 pretrained model ...\")\n",
    "  !wget -q --no-check-certificate -r 'https://github.com/chervonij/DFL-Colab/releases/download/Q96_model_pretrained/Q96_model_pretrained.zip' -O $pretrain_Q96_zip\n",
    "  !mkdir $pretrain_Q96_dir\n",
    "  !unzip -q $pretrain_Q96_zip -d $pretrain_Q96_dir\n",
    "  !rm $pretrain_Q96_zip\n",
    "\n",
    "\n",
    "if not Path(workspace_dir).exists():\n",
    "    !mkdir $workspace_dir\n",
    "    !mkdir $data_src_dir\n",
    "    !mkdir $aligned_data_src_dir\n",
    "    !mkdir $data_dst_dir\n",
    "    !mkdir $aligned_data_dst_dir\n",
    "\n",
    "\n",
    "display(IPython.display.Javascript('''\n",
    " function ClickConnect(){\n",
    "   btn = document.querySelector(\"colab-connect-button\")\n",
    "   if (btn != null){\n",
    "     console.log(\"Click colab-connect-button\"); \n",
    "     btn.click() \n",
    "     }\n",
    "   \n",
    "   btn = document.getElementById('ok')\n",
    "   if (btn != null){\n",
    "     console.log(\"Click reconnect\"); \n",
    "     btn.click() \n",
    "     }\n",
    "  }\n",
    "  \n",
    "setInterval(ClickConnect,60000)\n",
    "'''))\n",
    "\n",
    "print(\"\\nDone!\")\n"
   ]
  },
  {
   "attachments": {},
   "cell_type": "markdown",
   "metadata": {
    "id": "tUNVcbujhm00"
   },
   "source": [
    "# Extract, sorting and faceset tools\n",
    "\n",
    "- Extract frames for SRC or DST video.\n",
    "- Denoise SRC or DST video. \"Factor\" param set intesity of denoising\n",
    "- Detect and align faces with one of detectors. (S3FD - recommended). If you need, you can get frames with debug landmarks.\n",
    "- Options \"S3FD (Mark only)\" and \"S3FD (Extract unaligned)\" are needed for the AVATAR model. Before using, read the guide in the DeepFaceLab repository.\n",
    "- Export workspace to Google Drive after extract and sort it manually (In \"Manage Workspace\" block)\n",
    "- You can enhance your facesets with DFL FacesetEnhancer. Enhanced images will replace yours in \"aligned\" directory.\n"
   ]
  },
  {
   "cell_type": "code",
   "execution_count": null,
   "metadata": {
    "cellView": "form",
    "id": "qwJEbz5Nhot0"
   },
   "outputs": [],
   "source": [
    "# @title Extract frames\n",
    "Video = \"data_src\"  # @param [\"data_src\", \"data_dst\"]\n",
    "\n",
    "base_dir = '/content/drive/MyDrive/DeepFaceLabProject'\n",
    "\n",
    "%cd $base_dir\n",
    "\n",
    "cmd = \"DeepFaceLab/main.py videoed extract-video\"\n",
    "\n",
    "if Video == \"data_dst\":\n",
    "    cmd += \" --input-file workspace/data_dst.* --output-dir workspace/data_dst/\"\n",
    "else:\n",
    "    cmd += \" --input-file workspace/data_src.* --output-dir workspace/data_src/\"\n",
    "\n",
    "!python $cmd\n"
   ]
  },
  {
   "cell_type": "code",
   "execution_count": null,
   "metadata": {
    "cellView": "form",
    "id": "bFmPo0s2lTil"
   },
   "outputs": [],
   "source": [
    "# @title Denoise frames\n",
    "Data = \"data_src\"  # @param [\"data_src\", \"data_dst\"]\n",
    "Factor = 1  # @param {type:\"slider\", min:1, max:20, step:1}\n",
    "\n",
    "cmd = \"DeepFaceLab/main.py videoed denoise-image-sequence --input-dir workspace/\" + \\\n",
    "    Data+\" --factor \"+str(Factor)\n",
    "\n",
    "base_dir = '/content/drive/MyDrive/DeepFaceLabProject'\n",
    "\n",
    "%cd $base_dir\n",
    "!python $cmd\n"
   ]
  },
  {
   "cell_type": "code",
   "execution_count": null,
   "metadata": {
    "cellView": "form",
    "id": "nmq0Sj2bmq7d"
   },
   "outputs": [],
   "source": [
    "# @title Detect faces\n",
    "Data = \"data_src\"  # @param [\"data_src\", \"data_dst\"]\n",
    "# @param [\"S3FD\", \"S3FD (Mark only)\", \"S3FD (Extract unaligned)\", \"MT\"]\n",
    "Detector = \"S3FD\"\n",
    "Debug = False  # @param {type:\"boolean\"}\n",
    "\n",
    "detect_type = \"s3fd\"\n",
    "facetype = None\n",
    "\n",
    "if Detector == \"S3FD\":\n",
    "    detect_type = \"s3fd\"\n",
    "elif Detector == \"S3FD (Mark only)\":\n",
    "    detect_type = \"s3fd\"\n",
    "    facetype = \"mark_only\"\n",
    "elif Detector == \"S3FD (Extract unaligned)\":\n",
    "    detect_type = \"s3fd\"\n",
    "    facetype = \"full_face_no_align\"\n",
    "elif Detector == \"MT\":\n",
    "    detect_type = \"mt\"\n",
    "\n",
    "folder = \"workspace/\"+Data\n",
    "folder_align = folder+\"/aligned\"\n",
    "debug_folder = folder_align+\"/debug\"\n",
    "\n",
    "cmd = \"DeepFaceLab/main.py extract --input-dir \" + \\\n",
    "    folder+\" --output-dir \"+folder_align\n",
    "\n",
    "if Debug:\n",
    "    cmd += \" --debug-dir \"+debug_folder\n",
    "\n",
    "cmd += \" --detector \"+detect_type\n",
    "\n",
    "if facetype:\n",
    "    cmd += \" --face-type \"+facetype\n",
    "\n",
    "base_dir = '/content/drive/MyDrive/DeepFaceLabProject'\n",
    "\n",
    "%cd $base_dir\n",
    "!python $cmd\n"
   ]
  },
  {
   "cell_type": "code",
   "execution_count": null,
   "metadata": {
    "cellView": "form",
    "id": "TRNxUFE6p6Eu"
   },
   "outputs": [],
   "source": [
    "# @title Sort aligned\n",
    "Data = \"data_src\"  # @param [\"data_src\", \"data_dst\"]\n",
    "# @param [\"absdiff\",\"hist\", \"hist-dissim\", \"face-yaw\", \"face-pitch\", \"vggface\", \"blur\", \"final\", \"final-no-blur\"]\n",
    "sort_type = \"absdiff\"\n",
    "\n",
    "cmd = \"DeepFaceLab/main.py sort --input-dir workspace/\" + \\\n",
    "    Data+\"/aligned --by \"+sort_type\n",
    "\n",
    "base_dir = '/content/drive/MyDrive/DeepFaceLabProject'\n",
    "\n",
    "%cd $base_dir\n",
    "!python $cmd\n"
   ]
  },
  {
   "cell_type": "code",
   "execution_count": null,
   "metadata": {
    "cellView": "form",
    "id": "O5MbnVDyXkP7"
   },
   "outputs": [],
   "source": [
    "# @title Faceset Enhancer\n",
    "Data = \"data_src\"  # @param [\"data_src\", \"data_dst\"]\n",
    "\n",
    "data_path = \"/content/drive/MyDrive/DeepFaceLabProject/workspace/\"+Data+\"/aligned\"\n",
    "\n",
    "cmd = \"/content/drive/MyDrive/DeepFaceLabProject/DeepFaceLab/main.py facesettool enhance --input-dir \"+data_path\n",
    "!python $cmd\n"
   ]
  },
  {
   "attachments": {},
   "cell_type": "markdown",
   "metadata": {
    "id": "WTuyUxgdLA13"
   },
   "source": [
    "# Train model\n",
    "\n",
    "- Choose your model type, but SAEHD is recommend for everyone\n",
    "- Set model options on output field\n",
    "- You can see preview manually, if go to model folder in filemanager and double click on preview.jpg file\n",
    "- Your workspace will be archived and upload to mounted Drive after 11 hours from start session\n",
    "- If you select \"Backup_every_hour\" option, your workspace will be backed up every hour.\n",
    "- Also, you can export your workspace manually in \"Manage workspace\" block\n"
   ]
  },
  {
   "cell_type": "code",
   "execution_count": null,
   "metadata": {
    "cellView": "form",
    "id": "Z0Kya-PJLDhv"
   },
   "outputs": [],
   "source": [
    "# ml_env = \"/content/drive/MyDrive/ml_env/bin/activate\"\n",
    "ROOT_DIR = \"/content/drive/MyDrive/DeepFaceLabProject/DeepFaceLab\"\n",
    "DFL_WORKSPACE = \"/content/drive/MyDrive/DeepFaceLabProject/workspace\"\n",
    "\n",
    "# %cd $ROOT_DIR; pwd\n",
    "!python $ROOT_DIR/main.py train \\\n",
    "    --training-data-src-dir \"$DFL_WORKSPACE/data_src/aligned\" \\\n",
    "    --training-data-dst-dir \"$DFL_WORKSPACE/data_dst/aligned\" \\\n",
    "    --pretraining-data-dir \"$ROOT_DIR/pretrain\" \\\n",
    "    --pretrained-model-dir \"$ROOT_DIR/pretrain_Quick96\" \\\n",
    "    --model-dir \"$DFL_WORKSPACE/model\" \\\n",
    "    --model Quick96"
   ]
  },
  {
   "attachments": {},
   "cell_type": "markdown",
   "metadata": {
    "id": "avAcSL_uvtq_"
   },
   "source": [
    "# Convert frames\n"
   ]
  },
  {
   "cell_type": "code",
   "execution_count": null,
   "metadata": {
    "cellView": "form",
    "id": "A3Y8K22Sv9Gn"
   },
   "outputs": [],
   "source": [
    "ROOT_DIR = \"/content/drive/MyDrive/DeepFaceLabProject/DeepFaceLab\"\n",
    "DFL_WORKSPACE = \"/content/drive/MyDrive/DeepFaceLabProject/workspace\"\n",
    "\n",
    "!python $ROOT_DIR/main.py videoed video-from-sequence \\\n",
    "    --input-dir \"$DFL_WORKSPACE/data_dst/merged\" \\\n",
    "    --output-file \"$DFL_WORKSPACE/result.mp4\" \\\n",
    "    --reference-file \"$DFL_WORKSPACE/data_dst.*\" \\\n",
    "    --include-audio\n",
    "\n",
    "!python $ROOT_DIR/main.py videoed video-from-sequence \\\n",
    "    --input-dir \"$DFL_WORKSPACE/data_dst/merged_mask\" \\\n",
    "    --output-file \"$DFL_WORKSPACE/result_mask.mp4\" \\\n",
    "    --reference-file \"$DFL_WORKSPACE/data_dst.*\" \\\n",
    "    --lossless"
   ]
  }
 ],
 "metadata": {
  "accelerator": "GPU",
  "colab": {
   "collapsed_sections": [
    "BDg_jiQ9adQe",
    "JuVn21kt40Gw",
    "hqwOlJG4MdLC",
    "tUNVcbujhm00",
    "WTuyUxgdLA13",
    "avAcSL_uvtq_"
   ],
   "provenance": []
  },
  "kernelspec": {
   "display_name": "Python 3 (ipykernel)",
   "language": "python",
   "name": "python3"
  },
  "language_info": {
   "codemirror_mode": {
    "name": "ipython",
    "version": 3
   },
   "file_extension": ".py",
   "mimetype": "text/x-python",
   "name": "python",
   "nbconvert_exporter": "python",
   "pygments_lexer": "ipython3",
   "version": "3.11.2"
  }
 },
 "nbformat": 4,
 "nbformat_minor": 1
}
