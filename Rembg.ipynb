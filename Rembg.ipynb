{
 "cells": [
  {
   "attachments": {},
   "cell_type": "markdown",
   "metadata": {},
   "source": [
    "# 1. Convert video to frames"
   ]
  },
  {
   "cell_type": "code",
   "execution_count": null,
   "metadata": {},
   "outputs": [],
   "source": [
    "!ffmpeg -i input_video.mp4 -vf \"fps=30\" output_dir/frame-%d.jpg"
   ]
  },
  {
   "attachments": {},
   "cell_type": "markdown",
   "metadata": {},
   "source": [
    "# 2. Rembg conversion on all frames"
   ]
  },
  {
   "cell_type": "code",
   "execution_count": null,
   "metadata": {},
   "outputs": [],
   "source": [
    "#!/bin/bash\n",
    "\n",
    "output_dir=\"frames\"\n",
    "total_frames=$(find \"$output_dir\" -name \"frame-*.jpg\" | wc -l)\n",
    "completed_frames=0\n",
    "\n",
    "# rembg function to remove background\n",
    "simulate_long_process() {\n",
    "    frame=\"$1\"\n",
    "    echo \"Processing frame: $frame\"\n",
    "    rembg i -m u2netp path/to/input.png path/to/output.png\n",
    "    sleep 1  # Simulate a long process command (1 second sleep here)\n",
    "    echo \"Completed frame: $frame\"\n",
    "}\n",
    "\n",
    "# Function to display the loading bar progress\n",
    "display_progress() {\n",
    "    local width=20\n",
    "    local progress=$((completed_frames * 100 / total_frames))\n",
    "    local completed=$((progress * width / 100))\n",
    "    local remaining=$((width - completed))\n",
    "    printf \"\\rProgress: [%-${completed}s%-${remaining}s] %d%%\" \\\n",
    "           \"\" \"\" \"$progress\"\n",
    "}\n",
    "\n",
    "# Iterate over each frame file in the output directory\n",
    "for frame_file in \"$output_dir\"/frame-*.jpg; do\n",
    "    frame=$(basename \"$frame_file\" .jpg)\n",
    "    simulate_long_process \"$frame\"\n",
    "    ((completed_frames++))\n",
    "    display_progress\n",
    "done\n",
    "\n",
    "echo  # Move to the next line after progress display\n",
    "echo \"All frames completed!\""
   ]
  }
 ],
 "metadata": {
  "language_info": {
   "name": "python"
  },
  "orig_nbformat": 4
 },
 "nbformat": 4,
 "nbformat_minor": 2
}
